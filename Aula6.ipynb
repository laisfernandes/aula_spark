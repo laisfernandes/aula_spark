{
  "nbformat": 4,
  "nbformat_minor": 0,
  "metadata": {
    "colab": {
      "name": "Aula6.ipynb",
      "provenance": [],
      "collapsed_sections": []
    },
    "kernelspec": {
      "name": "python3",
      "display_name": "Python 3"
    }
  },
  "cells": [
    {
      "cell_type": "markdown",
      "metadata": {
        "id": "RKXS2-U0qxjj"
      },
      "source": [
        "**1 - Configurando o Spark no Python**\n",
        "\n",
        "Etapa responsável por realizar o Download e configuração do Apache Spark."
      ]
    },
    {
      "cell_type": "code",
      "metadata": {
        "id": "qlNFv4-4rJAb"
      },
      "source": [
        "#Instalação e configuração do Java 8\n",
        "!apt-get install openjdk-8-jdk-headless -qq > /dev/null\n",
        "#Download do Apache Spark\n",
        "!wget -q http://apache.osuosl.org/spark/spark-3.0.1/spark-3.0.1-bin-hadoop3.2.tgz\n",
        "#Descompactando o Apache Spark\n",
        "!tar xf spark-3.0.1-bin-hadoop3.2.tgz\n",
        "#Instalação do Findspark\n",
        "!pip install -q findspark"
      ],
      "execution_count": null,
      "outputs": []
    },
    {
      "cell_type": "markdown",
      "metadata": {
        "id": "ZSO3MafasL5T"
      },
      "source": [
        "**2 - Configurando o Ambiente**\n",
        "\n",
        "Etapa responsável por configurar o ambiente do Spark"
      ]
    },
    {
      "cell_type": "code",
      "metadata": {
        "id": "MIrpjpLmsWUL"
      },
      "source": [
        "import os\n",
        "os.environ[\"JAVA_HOME\"] = \"/usr/lib/jvm/java-8-openjdk-amd64\"\n",
        "os.environ[\"SPARK_HOME\"] = \"/content/spark-3.0.1-bin-hadoop3.2\""
      ],
      "execution_count": null,
      "outputs": []
    },
    {
      "cell_type": "markdown",
      "metadata": {
        "id": "1wc_N_9MtGYZ"
      },
      "source": [
        "**3 - Configurando a sessão do Spark**\n",
        "\n",
        "Etapa responsável por inicializar a sessão do Spark"
      ]
    },
    {
      "cell_type": "code",
      "metadata": {
        "id": "bkd-RvB3tOIz"
      },
      "source": [
        "import findspark\n",
        "findspark.init()\n",
        "from pyspark.sql import SparkSession\n",
        "spark = SparkSession.builder.master(\"local[*]\").getOrCreate()"
      ],
      "execution_count": null,
      "outputs": []
    },
    {
      "cell_type": "markdown",
      "metadata": {
        "id": "GXx2SLFitknD"
      },
      "source": [
        "**4 - Validando a Configuração e Versão do Spark**\n",
        "\n",
        "Etapa de Verificação"
      ]
    },
    {
      "cell_type": "code",
      "metadata": {
        "id": "jSHFaJvqtuGN",
        "outputId": "d56ebecd-49d9-4de3-a1cd-d5c4c237112e",
        "colab": {
          "base_uri": "https://localhost:8080/",
          "height": 34
        }
      },
      "source": [
        "import pyspark\n",
        "print(pyspark.__version__)"
      ],
      "execution_count": null,
      "outputs": [
        {
          "output_type": "stream",
          "text": [
            "3.0.1\n"
          ],
          "name": "stdout"
        }
      ]
    },
    {
      "cell_type": "markdown",
      "metadata": {
        "id": "OAYveZ8IuOA1"
      },
      "source": [
        "**5 - Download dos Dados do Portal da Transparência**\n",
        "\n",
        "Etapa responsável por baixar os dados do Cadastro Nacional de Empresas Idôneas e Suspensas providas através da API do Portal da Transparência"
      ]
    },
    {
      "cell_type": "code",
      "metadata": {
        "id": "WjzCj_bTwFLh",
        "outputId": "02b4ea3d-1dc8-4c6b-fc86-b695322942fa",
        "colab": {
          "base_uri": "https://localhost:8080/",
          "height": 68
        }
      },
      "source": [
        "!curl -X GET --header 'Accept: application/json' --header 'chave-api-dados: fe3446f262599c3a5918efe5b05afd43' 'http://www.portaltransparencia.gov.br/api-de-dados/ceis?dataInicialSancao=01%2F01%2F2020&dataFinalSancao=22%2F10%2F2020&pagina=1' > consulta_portal_transparencia.json"
      ],
      "execution_count": null,
      "outputs": [
        {
          "output_type": "stream",
          "text": [
            "  % Total    % Received % Xferd  Average Speed   Time    Time     Time  Current\n",
            "                                 Dload  Upload   Total   Spent    Left  Speed\n",
            "100 31026    0 31026    0     0  13857      0 --:--:--  0:00:02 --:--:-- 13857\n"
          ],
          "name": "stdout"
        }
      ]
    },
    {
      "cell_type": "markdown",
      "metadata": {
        "id": "p_0qZRlVwQs9"
      },
      "source": [
        "**6 - Carregando os dados no Spark**\n",
        "\n",
        "Etapa para a carga de dados no Spark."
      ]
    },
    {
      "cell_type": "markdown",
      "metadata": {
        "id": "nTGQByP9I8ac"
      },
      "source": [
        ""
      ]
    },
    {
      "cell_type": "code",
      "metadata": {
        "id": "56Odnsa-wX52"
      },
      "source": [
        "#Instancia o contexto do Spark\n",
        "sc = spark.sparkContext\n",
        "#Realiza a leitura da nossa consulta realizada na API do Governo Federal sobre o PETI\n",
        "path = \"/content/consulta_portal_transparencia.json\"\n",
        "#Declara dataframe com o conteúdo da API baixada\n",
        "df = spark.read.json(path)"
      ],
      "execution_count": null,
      "outputs": []
    },
    {
      "cell_type": "markdown",
      "metadata": {
        "id": "tJsDKX2dwz2_"
      },
      "source": [
        "**7 - Explorando os dados que foram obtidos**\n",
        "\n",
        "Etapa de exploração dos dados"
      ]
    },
    {
      "cell_type": "code",
      "metadata": {
        "id": "CDIqBYgBw69b",
        "outputId": "90b5cf43-8bdf-44bb-c16a-a145b7dba538",
        "colab": {
          "base_uri": "https://localhost:8080/",
          "height": 1000
        }
      },
      "source": [
        "#Imprime a estrutura de dados do dataframe\n",
        "df.printSchema()\n",
        "#Imprime uma amostra de dados\n",
        "df.show()"
      ],
      "execution_count": null,
      "outputs": [
        {
          "output_type": "stream",
          "text": [
            "root\n",
            " |-- abrangenciaDefinidaDecisaoJudicial: string (nullable = true)\n",
            " |-- dataFimSancao: string (nullable = true)\n",
            " |-- dataInicioSancao: string (nullable = true)\n",
            " |-- dataOrigemInformacao: string (nullable = true)\n",
            " |-- dataPublicacaoSancao: string (nullable = true)\n",
            " |-- dataReferencia: string (nullable = true)\n",
            " |-- dataTransitadoJulgado: string (nullable = true)\n",
            " |-- detalhamentoPublicacao: string (nullable = true)\n",
            " |-- fonteSancao: struct (nullable = true)\n",
            " |    |-- enderecoContato: string (nullable = true)\n",
            " |    |-- nomeExibicao: string (nullable = true)\n",
            " |    |-- telefoneContato: string (nullable = true)\n",
            " |-- id: long (nullable = true)\n",
            " |-- informacoesAdicionaisDoOrgaoSancionador: string (nullable = true)\n",
            " |-- legislacao: struct (nullable = true)\n",
            " |    |-- descricaoFundamentacaoLegal: string (nullable = true)\n",
            " |    |-- fundamentacaoLegal: string (nullable = true)\n",
            " |-- linkPublicacao: string (nullable = true)\n",
            " |-- numeroProcesso: string (nullable = true)\n",
            " |-- orgaoSancionador: struct (nullable = true)\n",
            " |    |-- nome: string (nullable = true)\n",
            " |    |-- poder: string (nullable = true)\n",
            " |    |-- siglaUf: string (nullable = true)\n",
            " |-- pessoa: struct (nullable = true)\n",
            " |    |-- cnae: struct (nullable = true)\n",
            " |    |    |-- classe: string (nullable = true)\n",
            " |    |    |-- codigoClasse: string (nullable = true)\n",
            " |    |    |-- codigoDivisao: string (nullable = true)\n",
            " |    |    |-- codigoGrupo: string (nullable = true)\n",
            " |    |    |-- codigoSecao: string (nullable = true)\n",
            " |    |    |-- codigoSubclasse: string (nullable = true)\n",
            " |    |    |-- divisao: string (nullable = true)\n",
            " |    |    |-- grupo: string (nullable = true)\n",
            " |    |    |-- secao: string (nullable = true)\n",
            " |    |    |-- subclasse: string (nullable = true)\n",
            " |    |-- codigoFormatado: string (nullable = true)\n",
            " |    |-- complementoEndereco: string (nullable = true)\n",
            " |    |-- dataAbertura: string (nullable = true)\n",
            " |    |-- descricaoLogradouro: string (nullable = true)\n",
            " |    |-- enderecoEletronico: string (nullable = true)\n",
            " |    |-- localidadePessoa: string (nullable = true)\n",
            " |    |-- municipio: struct (nullable = true)\n",
            " |    |    |-- codigoIBGE: string (nullable = true)\n",
            " |    |    |-- nomeIBGE: string (nullable = true)\n",
            " |    |    |-- pais: string (nullable = true)\n",
            " |    |    |-- uf: struct (nullable = true)\n",
            " |    |    |    |-- nome: string (nullable = true)\n",
            " |    |    |    |-- sigla: string (nullable = true)\n",
            " |    |-- naturezaJuridica: struct (nullable = true)\n",
            " |    |    |-- codigo: string (nullable = true)\n",
            " |    |    |-- codigoTipo: string (nullable = true)\n",
            " |    |    |-- descricao: string (nullable = true)\n",
            " |    |    |-- descricaoTipo: string (nullable = true)\n",
            " |    |-- nome: string (nullable = true)\n",
            " |    |-- nomeBairro: string (nullable = true)\n",
            " |    |-- nomeFantasiaReceita: string (nullable = true)\n",
            " |    |-- numeroCEP: string (nullable = true)\n",
            " |    |-- numeroEndereco: string (nullable = true)\n",
            " |    |-- numeroInscricaoSocial: string (nullable = true)\n",
            " |    |-- numeroTelefone: string (nullable = true)\n",
            " |    |-- razaoSocialReceita: string (nullable = true)\n",
            " |    |-- tipoCodigo: string (nullable = true)\n",
            " |    |-- tipoPessoa: string (nullable = true)\n",
            " |-- sancionado: struct (nullable = true)\n",
            " |    |-- codigoFormatado: string (nullable = true)\n",
            " |    |-- nome: string (nullable = true)\n",
            " |-- textoPublicacao: string (nullable = true)\n",
            " |-- tipoSancao: struct (nullable = true)\n",
            " |    |-- descricaoPortal: string (nullable = true)\n",
            " |    |-- descricaoResumida: string (nullable = true)\n",
            "\n",
            "+----------------------------------+-------------+----------------+--------------------+--------------------+--------------+---------------------+----------------------+--------------------+---------+---------------------------------------+--------------------+--------------------+--------------------+--------------------+--------------------+--------------------+--------------------+--------------------+\n",
            "|abrangenciaDefinidaDecisaoJudicial|dataFimSancao|dataInicioSancao|dataOrigemInformacao|dataPublicacaoSancao|dataReferencia|dataTransitadoJulgado|detalhamentoPublicacao|         fonteSancao|       id|informacoesAdicionaisDoOrgaoSancionador|          legislacao|      linkPublicacao|      numeroProcesso|    orgaoSancionador|              pessoa|          sancionado|     textoPublicacao|          tipoSancao|\n",
            "+----------------------------------+-------------+----------------+--------------------+--------------------+--------------+---------------------+----------------------+--------------------+---------+---------------------------------------+--------------------+--------------------+--------------------+--------------------+--------------------+--------------------+--------------------+--------------------+\n",
            "|              Todas as Esferas ...|   31/05/2020|      02/03/2020|          04/03/2020|          02/03/2020|    22/10/2020|           02/03/2020|                      |[Rua Duque de Cax...|365408078|                                       |[Pela inexecução ...|                    |Processo Licitato...|[PREFEITURA MUNIC...|[[Comércio atacad...|[18.292.950/0001-...|Diário Oficial do...|[Inidoneidade - L...|\n",
            "|                    Sem Informação|   22/10/2020|      25/06/2020|          25/06/2020|          25/06/2020|    22/10/2020|       Sem informação|                      |[Praça Municipal ...|365708284|                                       |[Quem, convocado ...|http://pesquisa.i...|0007823-10.2019.6...|[TRIBUNAL REGIONA...|[[Comércio vareji...|[34.494.895/0001-...|Diário Oficial da...|[Impedimento - Le...|\n",
            "|                    Sem Informação|   22/10/2020|      22/04/2020|          01/06/2020|          22/04/2020|    22/10/2020|       Sem informação|                      |[Rua Siqueira Cam...|367008448|                   CIA ESTADUAL DE E...|[II - o retardame...|                    |   20/0480-0000015-2|[Governo do Estad...|[[Serviços de eng...|[04.951.007/0001-...|Diário Oficial do...|[Suspensão - Legi...|\n",
            "|              Todas as Esferas ...|   31/05/2020|      02/03/2020|          04/03/2020|          02/03/2020|    22/10/2020|           02/03/2020|                      |[Rua Duque de Cax...|367209843|                                       |[Pela inexecução ...|                    |Processo Licitató...|[PREFEITURA MUNIC...|[[Representantes ...|[16.560.190/0001-...|Diário Oficial do...|[Inidoneidade - L...|\n",
            "|                    Sem Informação|   22/10/2020|      22/04/2020|          01/06/2020|          22/04/2020|    22/10/2020|       Sem informação|                      |[Rua Siqueira Cam...|367508719|                   CIA ESTADUAL DE E...|[II - o retardame...|                    |   20/0480-0000015-2|[Governo do Estad...|[[Sem informação,...|[***.585.760-**, ...|Diário Oficial do...|[Suspensão - Legi...|\n",
            "|              No órgão sancionador|   15/10/2020|      15/04/2020|          06/05/2020|          15/04/2020|    22/10/2020|           22/04/2020|                      |[Avenida Engenhei...|369609008|                   LABORATÓRIO FARMA...|[Pela inexecução ...|                    |Proc. Adm. nº 002...|[Governo do Estad...|[[Sem informação,...|[18.259.511/0001-...|Diário Oficial do...|[Inidoneidade - L...|\n",
            "|                    Sem Informação|   22/10/2020|      22/07/2020|          30/09/2020|          22/07/2020|    22/10/2020|       Sem informação|                      |[Av. Erasmo Braga...|372408771|                                       |[Quem, convocado ...|                    |SEI-270320/000004...|[Secretaria de Es...|[[Sem informação,...|[11.922.238/0001-...|Diário Oficial do...|[Impedimento - Le...|\n",
            "|                    Sem Informação|   22/10/2020|      22/04/2020|          01/06/2020|          22/04/2020|    22/10/2020|       Sem informação|                      |[Rua Siqueira Cam...|372909390|                   CIA ESTADUAL DE E...|[II - o retardame...|                    |   20/0480-0000015-2|[Governo do Estad...|[[Sem informação,...|[***.729.940-**, ...|Diário Oficial do...|[Suspensão - Legi...|\n",
            "|              Em todos os Poder...|   21/09/2020|      21/07/2020|          21/07/2020|          07/05/2020|    22/10/2020|       Sem informação|                      |[Praça dos Girass...|374009302|                                       |[Pela inexecução ...|                    |   2019/30550/006725|[SECRETARIA DA SA...|[[Comércio vareji...|[08.173.123/0001-...|Diário Oficial do...|[Inidoneidade - L...|\n",
            "|                    Sem Informação|   22/10/2020|      22/04/2020|          01/06/2020|          22/04/2020|    22/10/2020|       Sem informação|                      |[Rua Siqueira Cam...|377408517|                   CIA ESTADUAL DE E...|[II - o retardame...|                    |   20/0480-0000015-2|[Governo do Estad...|[[Sem informação,...|[***.721.510-**, ...|Diário Oficial do...|[Suspensão - Legi...|\n",
            "|              Todas as Esferas ...|   31/05/2020|      02/03/2020|          04/03/2020|          02/03/2020|    22/10/2020|           02/03/2020|                      |[Rua Duque de Cax...|377708958|                                       |[Pela inexecução ...|                    |Processo Licitató...|[PREFEITURA MUNIC...|[[Representantes ...|[27.042.247/0001-...|Diário Oficial do...|[Inidoneidade - L...|\n",
            "+----------------------------------+-------------+----------------+--------------------+--------------------+--------------+---------------------+----------------------+--------------------+---------+---------------------------------------+--------------------+--------------------+--------------------+--------------------+--------------------+--------------------+--------------------+--------------------+\n",
            "\n"
          ],
          "name": "stdout"
        }
      ]
    },
    {
      "cell_type": "markdown",
      "metadata": {
        "id": "yZPQSQntI_oZ"
      },
      "source": [
        "**8 - Tratando e transformando os dados**"
      ]
    },
    {
      "cell_type": "code",
      "metadata": {
        "id": "uptq0-WpJHPh",
        "outputId": "93d1c3c1-060a-4992-a7fb-69cbc72af76b",
        "colab": {
          "base_uri": "https://localhost:8080/",
          "height": 289
        }
      },
      "source": [
        "dfPrepared = df.selectExpr(\"abrangenciaDefinidaDecisaoJudicial as Abrangencia\", \"dataFimSancao\", \"dataInicioSancao\",\"dataTransitadoJulgado\", \"fonteSancao\", \"orgaoSancionador\",\"pessoa\", \"tipoSancao\")\n",
        "dfPrepared.show()"
      ],
      "execution_count": null,
      "outputs": [
        {
          "output_type": "stream",
          "text": [
            "+--------------------+-------------+----------------+---------------------+--------------------+--------------------+--------------------+--------------------+\n",
            "|         Abrangencia|dataFimSancao|dataInicioSancao|dataTransitadoJulgado|         fonteSancao|    orgaoSancionador|              pessoa|          tipoSancao|\n",
            "+--------------------+-------------+----------------+---------------------+--------------------+--------------------+--------------------+--------------------+\n",
            "|Todas as Esferas ...|   31/05/2020|      02/03/2020|           02/03/2020|[Rua Duque de Cax...|[PREFEITURA MUNIC...|[[Comércio atacad...|[Inidoneidade - L...|\n",
            "|      Sem Informação|   22/10/2020|      25/06/2020|       Sem informação|[Praça Municipal ...|[TRIBUNAL REGIONA...|[[Comércio vareji...|[Impedimento - Le...|\n",
            "|      Sem Informação|   22/10/2020|      22/04/2020|       Sem informação|[Rua Siqueira Cam...|[Governo do Estad...|[[Serviços de eng...|[Suspensão - Legi...|\n",
            "|Todas as Esferas ...|   31/05/2020|      02/03/2020|           02/03/2020|[Rua Duque de Cax...|[PREFEITURA MUNIC...|[[Representantes ...|[Inidoneidade - L...|\n",
            "|      Sem Informação|   22/10/2020|      22/04/2020|       Sem informação|[Rua Siqueira Cam...|[Governo do Estad...|[[Sem informação,...|[Suspensão - Legi...|\n",
            "|No órgão sancionador|   15/10/2020|      15/04/2020|           22/04/2020|[Avenida Engenhei...|[Governo do Estad...|[[Sem informação,...|[Inidoneidade - L...|\n",
            "|      Sem Informação|   22/10/2020|      22/07/2020|       Sem informação|[Av. Erasmo Braga...|[Secretaria de Es...|[[Sem informação,...|[Impedimento - Le...|\n",
            "|      Sem Informação|   22/10/2020|      22/04/2020|       Sem informação|[Rua Siqueira Cam...|[Governo do Estad...|[[Sem informação,...|[Suspensão - Legi...|\n",
            "|Em todos os Poder...|   21/09/2020|      21/07/2020|       Sem informação|[Praça dos Girass...|[SECRETARIA DA SA...|[[Comércio vareji...|[Inidoneidade - L...|\n",
            "|      Sem Informação|   22/10/2020|      22/04/2020|       Sem informação|[Rua Siqueira Cam...|[Governo do Estad...|[[Sem informação,...|[Suspensão - Legi...|\n",
            "|Todas as Esferas ...|   31/05/2020|      02/03/2020|           02/03/2020|[Rua Duque de Cax...|[PREFEITURA MUNIC...|[[Representantes ...|[Inidoneidade - L...|\n",
            "+--------------------+-------------+----------------+---------------------+--------------------+--------------------+--------------------+--------------------+\n",
            "\n"
          ],
          "name": "stdout"
        }
      ]
    },
    {
      "cell_type": "markdown",
      "metadata": {
        "id": "9YYLRy1QKP6L"
      },
      "source": [
        "**9 - Análise das informações e resultados obtidos**\n",
        "\n",
        "Etapa onde são realizadas as análises utilizando linguagem SQL"
      ]
    },
    {
      "cell_type": "code",
      "metadata": {
        "id": "r0eldmJ-KZqP"
      },
      "source": [
        "#Declara tabela temporária no SparkSQL\n",
        "dfPrepared.createOrReplaceTempView(\"dfPrepared\")"
      ],
      "execution_count": null,
      "outputs": []
    },
    {
      "cell_type": "code",
      "metadata": {
        "id": "4a1b-prUK_Wh",
        "outputId": "92abc1d7-92b8-4744-f8e1-da30ef3f1016",
        "colab": {
          "base_uri": "https://localhost:8080/",
          "height": 204
        }
      },
      "source": [
        "#Empresas sem informação de abrangência\n",
        "emp_seminfo = spark.sql(\"select * from dfPrepared where abrangencia = 'Sem Informação'\")\n",
        "emp_seminfo.show()"
      ],
      "execution_count": null,
      "outputs": [
        {
          "output_type": "stream",
          "text": [
            "+--------------+-------------+----------------+---------------------+--------------------+--------------------+--------------------+--------------------+\n",
            "|   Abrangencia|dataFimSancao|dataInicioSancao|dataTransitadoJulgado|         fonteSancao|    orgaoSancionador|              pessoa|          tipoSancao|\n",
            "+--------------+-------------+----------------+---------------------+--------------------+--------------------+--------------------+--------------------+\n",
            "|Sem Informação|   22/10/2020|      25/06/2020|       Sem informação|[Praça Municipal ...|[TRIBUNAL REGIONA...|[[Comércio vareji...|[Impedimento - Le...|\n",
            "|Sem Informação|   22/10/2020|      22/04/2020|       Sem informação|[Rua Siqueira Cam...|[Governo do Estad...|[[Serviços de eng...|[Suspensão - Legi...|\n",
            "|Sem Informação|   22/10/2020|      22/04/2020|       Sem informação|[Rua Siqueira Cam...|[Governo do Estad...|[[Sem informação,...|[Suspensão - Legi...|\n",
            "|Sem Informação|   22/10/2020|      22/07/2020|       Sem informação|[Av. Erasmo Braga...|[Secretaria de Es...|[[Sem informação,...|[Impedimento - Le...|\n",
            "|Sem Informação|   22/10/2020|      22/04/2020|       Sem informação|[Rua Siqueira Cam...|[Governo do Estad...|[[Sem informação,...|[Suspensão - Legi...|\n",
            "|Sem Informação|   22/10/2020|      22/04/2020|       Sem informação|[Rua Siqueira Cam...|[Governo do Estad...|[[Sem informação,...|[Suspensão - Legi...|\n",
            "+--------------+-------------+----------------+---------------------+--------------------+--------------------+--------------------+--------------------+\n",
            "\n"
          ],
          "name": "stdout"
        }
      ]
    },
    {
      "cell_type": "code",
      "metadata": {
        "id": "q53J9Ls5L2sI",
        "outputId": "12818ae4-70d1-4aca-e729-80248e031e64",
        "colab": {
          "base_uri": "https://localhost:8080/",
          "height": 170
        }
      },
      "source": [
        "#Empresas com Data de trânsito julgado\n",
        "emp_data= spark.sql(\"select * from dfPrepared where dataTransitadoJulgado <> 'Sem informação'\")\n",
        "emp_data.show()"
      ],
      "execution_count": null,
      "outputs": [
        {
          "output_type": "stream",
          "text": [
            "+--------------------+-------------+----------------+---------------------+--------------------+--------------------+--------------------+--------------------+\n",
            "|         Abrangencia|dataFimSancao|dataInicioSancao|dataTransitadoJulgado|         fonteSancao|    orgaoSancionador|              pessoa|          tipoSancao|\n",
            "+--------------------+-------------+----------------+---------------------+--------------------+--------------------+--------------------+--------------------+\n",
            "|Todas as Esferas ...|   31/05/2020|      02/03/2020|           02/03/2020|[Rua Duque de Cax...|[PREFEITURA MUNIC...|[[Comércio atacad...|[Inidoneidade - L...|\n",
            "|Todas as Esferas ...|   31/05/2020|      02/03/2020|           02/03/2020|[Rua Duque de Cax...|[PREFEITURA MUNIC...|[[Representantes ...|[Inidoneidade - L...|\n",
            "|No órgão sancionador|   15/10/2020|      15/04/2020|           22/04/2020|[Avenida Engenhei...|[Governo do Estad...|[[Sem informação,...|[Inidoneidade - L...|\n",
            "|Todas as Esferas ...|   31/05/2020|      02/03/2020|           02/03/2020|[Rua Duque de Cax...|[PREFEITURA MUNIC...|[[Representantes ...|[Inidoneidade - L...|\n",
            "+--------------------+-------------+----------------+---------------------+--------------------+--------------------+--------------------+--------------------+\n",
            "\n"
          ],
          "name": "stdout"
        }
      ]
    },
    {
      "cell_type": "code",
      "metadata": {
        "id": "2ecSAc7NMtzm",
        "outputId": "8b79bad1-0a22-49e4-fb86-ebb149c5fa15",
        "colab": {
          "base_uri": "https://localhost:8080/",
          "height": 204
        }
      },
      "source": [
        "#Qtde empresas por Órgão Sancionador\n",
        "emp_pororgao= spark.sql(\"select count(*), orgaoSancionador from dfPrepared group by 2 order by 1 desc\")\n",
        "emp_pororgao.show()"
      ],
      "execution_count": null,
      "outputs": [
        {
          "output_type": "stream",
          "text": [
            "+--------+--------------------+\n",
            "|count(1)|    orgaoSancionador|\n",
            "+--------+--------------------+\n",
            "|       4|[Governo do Estad...|\n",
            "|       3|[PREFEITURA MUNIC...|\n",
            "|       1|[SECRETARIA DA SA...|\n",
            "|       1|[Governo do Estad...|\n",
            "|       1|[Secretaria de Es...|\n",
            "|       1|[TRIBUNAL REGIONA...|\n",
            "+--------+--------------------+\n",
            "\n"
          ],
          "name": "stdout"
        }
      ]
    }
  ]
}